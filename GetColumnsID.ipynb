{
 "cells": [
  {
   "cell_type": "code",
   "execution_count": null,
   "metadata": {},
   "outputs": [
    {
     "name": "stdout",
     "output_type": "stream",
     "text": [
      "(307511, 510)\n",
      "(48744, 510)\n",
      "There are 175 features with less 0.0005 importance\n",
      "Training shape:  (307511, 335)\n",
      "Testing shape:  (48744, 335)\n",
      "There are 67 columns to remove.\n",
      "Training shape:  (307511, 268)\n",
      "Testing shape:  (48744, 268)\n"
     ]
    }
   ],
   "source": [
    "## IMPORTS ##\n",
    "\n",
    "# numpy and pandas for data manipulation\n",
    "import numpy as np\n",
    "import pandas as pd \n",
    "\n",
    "# sklearn preprocessing for dealing with categorical variables\n",
    "from sklearn.preprocessing import LabelEncoder\n",
    "\n",
    "# File system manangement\n",
    "import os\n",
    "\n",
    "# Suppress warnings \n",
    "import warnings\n",
    "warnings.filterwarnings('ignore')\n",
    "\n",
    "# matplotlib for plotting\n",
    "import matplotlib.pyplot as plt\n",
    "\n",
    "# garbage collector\n",
    "import gc\n",
    "\n",
    "# Load data fcn\n",
    "def load_credit_data(data_path):\n",
    "    csv_path = os.path.join(\"data\", data_path)\n",
    "    return pd.read_csv(csv_path)\n",
    "\n",
    "# Load training data\n",
    "training_df = load_credit_data (\"training_merged_preprocessed_id.csv\")\n",
    "print (training_df.shape)\n",
    "\n",
    "# Load test data\n",
    "testing_df = load_credit_data (\"testing_merged_preprocessed_id.csv\")\n",
    "print (testing_df.shape)\n",
    "\n",
    "# Load importance data\n",
    "feature_importances = load_credit_data (\"feature_importances_merged_sorted.csv\")\n",
    "\n",
    "# Find poor features (arbitrary threshold 0.0005)\n",
    "poor_features = list(feature_importances[feature_importances['importance'] < 0.0005]['feature'])\n",
    "print('There are %d features with less 0.0005 importance' % len(poor_features))\n",
    "\n",
    "# Remove those features\n",
    "top_training_df = training_df.drop(columns = poor_features)\n",
    "top_testing_df = testing_df.drop(columns = poor_features)\n",
    "\n",
    "print('Training shape: ', top_training_df.shape)\n",
    "print('Testing shape: ', top_testing_df.shape)\n",
    "\n",
    "# Threshold for removing correlated variables\n",
    "threshold = 0.9\n",
    "\n",
    "# Absolute value correlation matrix\n",
    "corr_matrix = top_training_df.corr().abs()\n",
    "corr_matrix.head()\n",
    "\n",
    "# Upper triangle of correlations\n",
    "upper = corr_matrix.where(np.triu(np.ones(corr_matrix.shape), k=1).astype(np.bool))\n",
    "upper.head()\n",
    "\n",
    "# Select columns with correlations above threshold\n",
    "corr_columns = [column for column in upper.columns if any(upper[column] > threshold)]\n",
    "\n",
    "print('There are %d columns to remove.' % (len(corr_columns)))\n",
    "\n",
    "top_training_df = top_training_df.drop(columns = corr_columns)\n",
    "top_testing_df = top_testing_df.drop(columns = corr_columns)\n",
    "\n",
    "print('Training shape: ', top_training_df.shape)\n",
    "print('Testing shape: ', top_testing_df.shape)\n",
    "\n"
   ]
  },
  {
   "cell_type": "code",
   "execution_count": null,
   "metadata": {},
   "outputs": [],
   "source": [
    "top_training_df.to_csv('training_top_id.csv', index = False)\n",
    "top_testing_df.to_csv('testing_top_id.csv', index = False)"
   ]
  },
  {
   "cell_type": "code",
   "execution_count": null,
   "metadata": {},
   "outputs": [],
   "source": []
  }
 ],
 "metadata": {
  "kernelspec": {
   "display_name": "Python 3",
   "language": "python",
   "name": "python3"
  },
  "language_info": {
   "codemirror_mode": {
    "name": "ipython",
    "version": 3
   },
   "file_extension": ".py",
   "mimetype": "text/x-python",
   "name": "python",
   "nbconvert_exporter": "python",
   "pygments_lexer": "ipython3",
   "version": "3.6.4"
  }
 },
 "nbformat": 4,
 "nbformat_minor": 2
}
